{
 "cells": [
  {
   "cell_type": "code",
   "execution_count": 15,
   "metadata": {},
   "outputs": [],
   "source": [
    "from faker import Faker\n",
    "from datetime import datetime, timedelta\n",
    "import random\n",
    "fake = Faker()\n",
    "users = []\n",
    "\n",
    "for _ in range(100):\n",
    "    # Générer vos données pour chaque INSERT INTO en utilisant Faker\n",
    "\n",
    "    first_name = fake.first_name()\n",
    "    last_name = fake.last_name()\n",
    "    email = fake.unique.email()\n",
    "    user_name = fake.unique.user_name()\n",
    "    while len(user_name)<=8:\n",
    "        user_name = fake.unique.user_name()\n",
    "    password=fake.password()\n",
    "    while len(password)<=8:\n",
    "        password = fake.password()\n",
    "\n",
    "    created_at = fake.date_time_between_dates(\n",
    "        datetime_start=datetime(2023, 1, 1),\n",
    "        datetime_end=datetime(2023, 6, 30)\n",
    "    ).strftime('%Y-%m-%d %H:%M:%S')\n",
    "\n",
    "    # Ajouter les données simulées à la liste des requêtes INSERT INTO\n",
    "    user = f\"INSERT INTO user_table (firstname, lastname, email, username, password, created_at) VALUES ('{first_name}', '{last_name}', '{email}', '{user_name}', '{password}', '{created_at}');\"\n",
    "    users.append(user)\n",
    "\n",
    "with open('part_1_2.sql', 'w') as file:\n",
    "    for user in users:\n",
    "        file.write(user + '\\n')\n"
   ]
  },
  {
   "cell_type": "code",
   "execution_count": 16,
   "metadata": {},
   "outputs": [],
   "source": [
    "verifiedusers = set()\n",
    "liste=[]\n",
    "for _ in range(85): \n",
    "    # Générer des données aléatoires pour chaque vérification d'e-mail\n",
    "    user_id = random.randint(1, 100) \n",
    "    while user_id in verifiedusers:\n",
    "        user_id = random.randint(1, 100)\n",
    "\n",
    "    # Générer une date de vérification aléatoire entre la création du compte et le 30/06/2023\n",
    "    created_at = fake.date_time_between_dates(\n",
    "        datetime_start=datetime(2023, 1, 1),\n",
    "        datetime_end=datetime(2023, 6, 30)\n",
    "    )\n",
    "    verified_at = fake.date_time_between_dates(\n",
    "        datetime_start=created_at,\n",
    "        datetime_end=datetime(2023, 6, 30)\n",
    "    ).strftime('%Y-%m-%d %H:%M:%S')\n",
    "\n",
    "    # Construction de la requête INSERT INTO pour chaque vérification d'e-mail\n",
    "    l = f\"INSERT INTO user_email_verification_table (user_id, verified_at) \" \\\n",
    "                f\"VALUES ({user_id}, '{verified_at}');\\n\"\n",
    "    liste.append(l)\n",
    "    # Ajouter l'utilisateur vérifié à l'ensemble pour éviter les doublons\n",
    "    verifiedusers.add(user_id)\n",
    "with open('part_1_2.sql', 'a') as file:\n",
    "    for l in liste:\n",
    "        file.write(l + '\\n')"
   ]
  },
  {
   "cell_type": "code",
   "execution_count": 12,
   "metadata": {},
   "outputs": [],
   "source": [
    "liste_querysession=[]\n",
    "for _ in range(1000):\n",
    "    # Générer des données aléatoires pour chaque session\n",
    "    user_id = random.randint(1, 100) \n",
    "\n",
    "    query_get_verification_date = f\"SELECT verified_at FROM user_email_verification_table WHERE user_id = {user_id};\"\n",
    "\n",
    "    # Récupérer la date de création du compte pour l'utilisateur\n",
    "    query_get_creation_date = f\"SELECT created_at FROM user_table WHERE user_id = {user_id};\"\n",
    "\n",
    "    # Générer une date de connexion aléatoire entre la date sélectionnée et le 30/06/2023\n",
    "    connected_at = fake.date_time_between_dates(\n",
    "        datetime_start=datetime(2023, 1, 1),\n",
    "        datetime_end=datetime(2023, 6, 30)\n",
    "        ).strftime('%Y-%m-%d %H:%M:%S')\n",
    "\n",
    "    # Construction de la requête INSERT INTO pour chaque session\n",
    "    query_session = f\"INSERT INTO session_table (user_id, connected_at) VALUES ({user_id}, '{connected_at}');\"\n",
    "    liste_querysession.append(query_session)\n",
    "with open('part_1_2.sql', 'a') as file:\n",
    "    for query_session in liste_querysession:\n",
    "        file.write(query_session + '\\n')"
   ]
  }
 ],
 "metadata": {
  "kernelspec": {
   "display_name": "env",
   "language": "python",
   "name": "python3"
  },
  "language_info": {
   "codemirror_mode": {
    "name": "ipython",
    "version": 3
   },
   "file_extension": ".py",
   "mimetype": "text/x-python",
   "name": "python",
   "nbconvert_exporter": "python",
   "pygments_lexer": "ipython3",
   "version": "3.11.2"
  }
 },
 "nbformat": 4,
 "nbformat_minor": 2
}
