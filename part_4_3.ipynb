{
 "cells": [
  {
   "cell_type": "code",
   "execution_count": 1,
   "metadata": {},
   "outputs": [
    {
     "name": "stdout",
     "output_type": "stream",
     "text": [
      "Temps pris avec le trigger pour 1000 éditions : 0.2635951042175293 secondes\n"
     ]
    }
   ],
   "source": [
    "import psycopg2\n",
    "import os\n",
    "import time\n",
    "USER_PSQL = os.environ.get(\"POSTGRESQL_LOCAL_USER\")\n",
    "PASSWORD_PSQL = os.environ.get(\"POSTGRESQL_LOCAL_PASSWORD\")\n",
    "db_name = \"course\"\n",
    "conn = psycopg2.connect(user=\"postgres\", password=\"yassouraGH21\",dbname=\"App_auth\", host=\"localhost\", port=\"5432\")\n",
    "cur = conn.cursor()\n",
    "def edit_user_with_trigger(num_edits):\n",
    "    start_time = time.time()\n",
    "    for i in range(num_edits):\n",
    "        user_id = i + 1  # Utilisation de numéros d'ID existants pour l'exemple\n",
    "        new_username = f\"nouveaunom{i}\"\n",
    "        cur.execute(\n",
    "            \"UPDATE user_table SET username = %s WHERE user_id = %s\",\n",
    "            (new_username, user_id)\n",
    "        )\n",
    "        conn.commit()  # Appliquer la mise à jour dans la base de données\n",
    "    end_time = time.time()\n",
    "    return end_time - start_time\n",
    "\n",
    "num_edits = 1000  # Modifier cette valeur pour différentes 100 et 10000éditions\n",
    "time_taken_with_trigger = edit_user_with_trigger(num_edits)\n",
    "print(f\"Temps pris avec le trigger pour {num_edits} éditions : {time_taken_with_trigger} secondes\")\n",
    "cur.close()\n",
    "conn.close()\n"
   ]
  },
  {
   "cell_type": "code",
   "execution_count": 2,
   "metadata": {},
   "outputs": [
    {
     "name": "stdout",
     "output_type": "stream",
     "text": [
      "Temps pris sans le trigger pour 1000 éditions : 0.5576133728027344 secondes\n"
     ]
    }
   ],
   "source": [
    "USER_PSQL = os.environ.get(\"POSTGRESQL_LOCAL_USER\")\n",
    "PASSWORD_PSQL = os.environ.get(\"POSTGRESQL_LOCAL_PASSWORD\")\n",
    "db_name = \"course\"\n",
    "conn = psycopg2.connect(user=\"postgres\", password=\"yassouraGH21\",dbname=\"App_auth\", host=\"localhost\", port=\"5432\")\n",
    "cur = conn.cursor()\n",
    "def edit_user_manually(num_edits):\n",
    "    start_time = time.time()\n",
    "    for i in range(num_edits):\n",
    "        user_id = i + 1  # Utilisation de numéros d'ID existants pour l'exemple\n",
    "        new_username = f\"nouveaunom{i}\"\n",
    "        cur.execute(\n",
    "            \"UPDATE user_table SET username = %s WHERE user_id = %s\",\n",
    "            (new_username, user_id)\n",
    "        )\n",
    "        # Enregistrement manuel dans username_history_from_app\n",
    "        cur.execute(\n",
    "            \"INSERT INTO username_history_from_app (user_id, username_new) VALUES (%s, %s)\",\n",
    "            (user_id, new_username)\n",
    "        )\n",
    "        conn.commit()  # Appliquer la mise à jour et l'enregistrement dans la base de données\n",
    "    end_time = time.time()\n",
    "    return end_time - start_time\n",
    "num_edits = 1000  # Modifier cette valeur pour différentes 100 et 10000éditions\n",
    "time_taken_manually = edit_user_manually(num_edits)\n",
    "print(f\"Temps pris sans le trigger pour {num_edits} éditions : {time_taken_manually} secondes\")\n",
    "cur.close()\n",
    "conn.close()"
   ]
  }
 ],
 "metadata": {
  "kernelspec": {
   "display_name": "env",
   "language": "python",
   "name": "python3"
  },
  "language_info": {
   "codemirror_mode": {
    "name": "ipython",
    "version": 3
   },
   "file_extension": ".py",
   "mimetype": "text/x-python",
   "name": "python",
   "nbconvert_exporter": "python",
   "pygments_lexer": "ipython3",
   "version": "3.11.2"
  }
 },
 "nbformat": 4,
 "nbformat_minor": 2
}
