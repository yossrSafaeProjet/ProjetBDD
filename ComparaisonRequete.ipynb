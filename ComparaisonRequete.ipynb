{
 "cells": [
  {
   "cell_type": "code",
   "execution_count": 1,
   "metadata": {},
   "outputs": [
    {
     "name": "stdout",
     "output_type": "stream",
     "text": [
      "Temps d'exécution pour 'nicholas26': 0.004412 secondes, Nombre de résultats: 1\n",
      "Temps d'exécution pour 'smithrandy': 0.000000 secondes, Nombre de résultats: 1\n",
      "Temps d'exécution pour 'robertrocha': 0.000000 secondes, Nombre de résultats: 1\n"
     ]
    }
   ],
   "source": [
    "import os\n",
    "import time\n",
    "from dotenv import load_dotenv\n",
    "load_dotenv(\".env\")\n",
    "from datetime import datetime, timedelta\n",
    "\n",
    "import psycopg2\n",
    "USER_PSQL = os.environ.get(\"POSTGRESQL_LOCAL_USER\")\n",
    "PASSWORD_PSQL = os.environ.get(\"POSTGRESQL_LOCAL_PASSWORD\")\n",
    "db_name = \"course\"\n",
    "conn = psycopg2.connect(user=\"postgres\", password=\"yassouraGH21\",dbname=\"App_auth\", host=\"localhost\", port=\"5432\")\n",
    "cur = conn.cursor()\n",
    "\n",
    "usernames = ['nicholas26', 'smithrandy', 'robertrocha']\n",
    "\n",
    "for username in usernames:\n",
    "    start_time = time.time()\n",
    "\n",
    "    # Exécution de la requête SELECT avec un filtre WHERE sur username\n",
    "    cur.execute(\"SELECT * FROM user_for_comparison WHERE username = %s\", (username,))\n",
    "    rows = cur.fetchall()\n",
    "\n",
    "    end_time = time.time()\n",
    "\n",
    "    execution_time = end_time - start_time\n",
    "    print(f\"Temps d'exécution pour '{username}': {execution_time:.6f} secondes, Nombre de résultats: {len(rows)}\")\n",
    "\n",
    "cur.close()\n",
    "conn.close()"
   ]
  },
  {
   "cell_type": "code",
   "execution_count": 2,
   "metadata": {},
   "outputs": [
    {
     "name": "stdout",
     "output_type": "stream",
     "text": [
      "Temps d'exécution pour 'nicholas26': 0.004973 secondes, Nombre de résultats: 1\n",
      "Temps d'exécution pour 'smithrandy': 0.000000 secondes, Nombre de résultats: 1\n",
      "Temps d'exécution pour 'robertrocha': 0.000000 secondes, Nombre de résultats: 1\n"
     ]
    }
   ],
   "source": [
    "import os\n",
    "import time\n",
    "from dotenv import load_dotenv\n",
    "load_dotenv(\".env\")\n",
    "from datetime import datetime, timedelta\n",
    "\n",
    "import psycopg2\n",
    "USER_PSQL = os.environ.get(\"POSTGRESQL_LOCAL_USER\")\n",
    "PASSWORD_PSQL = os.environ.get(\"POSTGRESQL_LOCAL_PASSWORD\")\n",
    "db_name = \"course\"\n",
    "conn = psycopg2.connect(user=\"postgres\", password=\"yassouraGH21\",dbname=\"App_auth\", host=\"localhost\", port=\"5432\")\n",
    "cur = conn.cursor()\n",
    "\n",
    "usernames = ['nicholas26', 'smithrandy', 'robertrocha']\n",
    "\n",
    "for username in usernames:\n",
    "    start_time = time.time()\n",
    "\n",
    "    # Exécution de la requête SELECT avec un filtre WHERE sur username\n",
    "    cur.execute(\"SELECT * FROM user_for_comparison WHERE username = %s\", (username,))\n",
    "    rows = cur.fetchall()\n",
    "\n",
    "    end_time = time.time()\n",
    "\n",
    "    execution_time = end_time - start_time\n",
    "    print(f\"Temps d'exécution pour '{username}': {execution_time:.6f} secondes, Nombre de résultats: {len(rows)}\")\n",
    "\n",
    "cur.close()\n",
    "conn.close()  "
   ]
  }
 ],
 "metadata": {
  "kernelspec": {
   "display_name": "env",
   "language": "python",
   "name": "python3"
  },
  "language_info": {
   "codemirror_mode": {
    "name": "ipython",
    "version": 3
   },
   "file_extension": ".py",
   "mimetype": "text/x-python",
   "name": "python",
   "nbconvert_exporter": "python",
   "pygments_lexer": "ipython3",
   "version": "3.11.2"
  }
 },
 "nbformat": 4,
 "nbformat_minor": 2
}
